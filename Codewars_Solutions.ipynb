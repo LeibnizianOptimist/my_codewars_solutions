{
  "nbformat": 4,
  "nbformat_minor": 0,
  "metadata": {
    "colab": {
      "provenance": [],
      "authorship_tag": "ABX9TyPtBFEEkl8BHP9M1Jy2YO2W"
    },
    "kernelspec": {
      "name": "python3",
      "display_name": "Python 3"
    },
    "language_info": {
      "name": "python"
    }
  },
  "cells": [
    {
      "cell_type": "code",
      "source": [
        "# pylint: disable=missing-docstring\n",
        "\n",
        "\n",
        "def sudoku_validator(grid):\n",
        "    zero_to_nine = [1, 2, 3, 4, 5, 6, 7, 8, 9]\n",
        "    for i in range(9):\n",
        "        if grid[i].sort() != zero_to_nine:\n",
        "        return False\n",
        "    for j in range(9):\n",
        "        vertical_list = []\n",
        "        for i in range(9):\n",
        "            vertical_list.append(grid[i][j])\n",
        "        vertical_list.sort()\n",
        "        print(vertical_list)\n",
        "        if vertical_list != zero_to_nine:\n",
        "            return False\n",
        "    for \n",
        "\n",
        "\n",
        "    return True\n",
        "        \n",
        "\n",
        "   # for x_cord in range(0,9,3):\n",
        "    #    for y_cord in range(0,9,3):\n",
        "     #       if valid_line(square_sudoku(grid, x_cord, y_cord)) is False:\n",
        "      #          return False\n",
        "    #return True\n",
        "\n",
        "\n",
        "sudoku_validator([\n",
        "    [7,8,4,  1,5,9,  3,2,6],\n",
        "    [5,3,9,  6,7,2,  8,4,1],\n",
        "    [6,1,2,  4,3,8,  7,5,9],\n",
        "\n",
        "    [9,2,8,  7,1,5,  4,6,3],\n",
        "    [3,5,7,  8,4,6,  1,9,2],\n",
        "    [4,6,1,  9,2,3,  5,8,7],\n",
        "\n",
        "    [8,7,6,  3,9,4,  2,1,5],\n",
        "    [2,4,3,  5,6,1,  9,7,8],\n",
        "    [1,9,5,  2,8,7,  6,3,4]\n",
        "]\n",
        ")\n"
      ],
      "metadata": {
        "colab": {
          "base_uri": "https://localhost:8080/"
        },
        "id": "Nde3zQ70955d",
        "outputId": "5569c3e3-5de1-4569-a52f-943b9f5c53f2"
      },
      "execution_count": null,
      "outputs": [
        {
          "output_type": "stream",
          "name": "stdout",
          "text": [
            "[1, 2, 3, 4, 5, 6, 7, 8, 9]\n",
            "[1, 2, 3, 4, 5, 6, 7, 8, 9]\n",
            "[1, 2, 3, 4, 5, 6, 7, 8, 9]\n",
            "[1, 2, 3, 4, 5, 6, 7, 8, 9]\n",
            "[1, 2, 3, 4, 5, 6, 7, 8, 9]\n",
            "[1, 2, 3, 4, 5, 6, 7, 8, 9]\n",
            "[1, 2, 3, 4, 5, 6, 7, 8, 9]\n",
            "[1, 2, 3, 4, 5, 6, 7, 8, 9]\n",
            "[1, 2, 3, 4, 5, 6, 7, 8, 9]\n"
          ]
        }
      ]
    },
    {
      "cell_type": "code",
      "source": [
        "def calculator(num1, operator, num2):\n",
        "    \"\"\"calculates simple arithmetic operations.\"\"\"\n",
        "    if operator == '+':\n",
        "        return int(num1) + int(num2)\n",
        "    if operator == '-':\n",
        "        return int(num1) - int(num2)\n",
        "    if operator == \"/\":\n",
        "        return int(num1) / int(num2)\n",
        "    if operator == '*':\n",
        "        return int(num1) * int(num2)\n",
        "\n",
        "calculator('4', '+', '5')"
      ],
      "metadata": {
        "colab": {
          "base_uri": "https://localhost:8080/"
        },
        "id": "Um3hFPWEqtf-",
        "outputId": "6ea6e5c6-b4a9-4dea-8ea8-ce4403c2cd7d"
      },
      "execution_count": null,
      "outputs": [
        {
          "output_type": "execute_result",
          "data": {
            "text/plain": [
              "9"
            ]
          },
          "metadata": {},
          "execution_count": 2
        }
      ]
    },
    {
      "cell_type": "code",
      "source": [
        "def sum3(first_number, second_number, third_number):\n",
        "    \"\"\"\n",
        "    Takes three numbers and returns the sum of those numbers\n",
        "    \"\"\"\n",
        "    new_list =[]\n",
        "    new_list.append(first_number)\n",
        "    new_list.append(second_number)\n",
        "    new_list.append(third_number)\n",
        "    print(new_list)\n",
        "    return sum(new_list)\n",
        "    "
      ],
      "metadata": {
        "id": "DCUywrQqzsFy"
      },
      "execution_count": null,
      "outputs": []
    },
    {
      "cell_type": "code",
      "source": [
        "# Richest Student \n",
        "\n",
        "class Student:\n",
        "    def __init__(self, name, fives, tens, twenties):\n",
        "        self.name = name\n",
        "        self.fives = fives\n",
        "        self.tens = tens\n",
        "        self.twenties = twenties\n",
        "        self.total = [self.fives*5, self.tens*10, self.twenties*20]\n",
        "\n",
        "    def wealth(self):\n",
        "        return print(sum(self.total))\n",
        "\n",
        "    def compare(self, student):\n",
        "        total_other = [student.fives*5, student.tens*10, student.twenties*20]\n",
        "        if sum(self.total) > sum(total_other):\n",
        "            return self.name\n",
        "        else:\n",
        "            return student.name\n",
        "\n",
        "\n",
        "a = Student('Amy', 5, 6, 7)\n",
        "b = Student('Bilbo', 3, 4, 5)\n",
        "a.wealth()\n",
        "b.wealth()\n",
        "a.compare(b)\n"
      ],
      "metadata": {
        "colab": {
          "base_uri": "https://localhost:8080/",
          "height": 71
        },
        "id": "VN5mHczSNhdG",
        "outputId": "195cb653-4277-4045-a5f1-599cb32b8168"
      },
      "execution_count": null,
      "outputs": [
        {
          "output_type": "stream",
          "name": "stdout",
          "text": [
            "225\n",
            "155\n"
          ]
        },
        {
          "output_type": "execute_result",
          "data": {
            "text/plain": [
              "'Amy'"
            ],
            "application/vnd.google.colaboratory.intrinsic+json": {
              "type": "string"
            }
          },
          "metadata": {},
          "execution_count": 14
        }
      ]
    },
    {
      "cell_type": "code",
      "source": [
        "class Cat:\n",
        "    def __init__(self):\n",
        "        self.age = 1\n",
        "        self.color = 'brown'\n",
        "        self.weight = 5\n",
        "\n",
        "    def age_10_years():\n",
        "        self.age = 10\n",
        "\n",
        "    def gain_weight():\n",
        "        self.weight = 20\n",
        "\n",
        "    def turn_grey():\n",
        "        self.color = 'grey'"
      ],
      "metadata": {
        "id": "y8YQMoZNnmBE"
      },
      "execution_count": null,
      "outputs": []
    },
    {
      "cell_type": "code",
      "source": [
        "import random\n",
        "\n",
        "prob_death = random.random() > 0.5\n",
        "\n",
        "\n",
        "class OrangeTree:\n",
        "    \n",
        "    def __init__(self, age, height, fruits, dead):\n",
        "        self.age = age\n",
        "        self.height = height\n",
        "        self.fruits = fruits\n",
        "        self.dead = dead\n",
        "\n",
        "\n",
        "    def one_year_passes(self):\n",
        "        \n",
        "        self.age = self.age + 1\n",
        "\n",
        "        if self.age >= 50:\n",
        "            if prob_death > 0.9:\n",
        "                self.dead = True\n",
        "\n",
        "        elif self.dead == False:\n",
        "\n",
        "            if self.age <= 10:\n",
        "                self.height = self.height + 1 \n",
        "            \n",
        "            elif self.age >= 50:\n",
        "                prob_death = prob_death + 0.1\n",
        "                print(prob_death)\n",
        "\n",
        "            elif self.age >= 100:\n",
        "                self.dead = True\n",
        "                print(self.dead) \n",
        "        \n",
        "            elif self.age > 5 and self.age <= 10:\n",
        "                self.fruits = 100\n",
        "                print(self.fruits)\n",
        "    \n",
        "            elif self.age > 10 and self.age < 15:\n",
        "                self.fruits = 200\n",
        "                print(self.fruits)\n",
        "    \n",
        "            elif self.age <= 10:\n",
        "                self.height += 1\n",
        "                print(self.height)\n",
        "            \n",
        "            return \n",
        "        \n",
        "        elif self.dead == True:\n",
        "            return f'Tree is dead,'\n",
        "        \n",
        "    def pick_a_fruit(picked):\n",
        "        self.fruit = self.fruit - picked\n",
        "        return f'You picked {picked} fruits. {self.fruit} remain.'\n",
        "\n",
        "Tree1 = OrangeTree(20, 30, 30, False)\n",
        "Tree1.one_year_passes()"
      ],
      "metadata": {
        "id": "LRBrRpGEiUum"
      },
      "execution_count": null,
      "outputs": []
    },
    {
      "cell_type": "markdown",
      "source": [],
      "metadata": {
        "id": "dBAtRXKWiUgj"
      }
    },
    {
      "cell_type": "code",
      "source": [
        "#Orange Tree\n",
        "\n",
        "import random\n",
        "\n",
        "prob_death = random.random()\n",
        "print(prob_death)\n",
        "\n",
        "class OrangeTree:\n",
        "    def __init__(self, age, height, fruits, dead):\n",
        "        self.age = age\n",
        "        self.height = height\n",
        "        self.fruits = fruits\n",
        "        self.dead = dead\n",
        "    \n",
        "    #Instance Methods:\n",
        "    count = 0\n",
        "\n",
        "    def one_year_passes(self):\n",
        "        \n",
        "        count += 1\n",
        "\n",
        "        self.age = self.age + 1\n",
        "\n",
        "        if self.age >= 50:\n",
        "            if prob_death > 0.9:\n",
        "                self.dead = False\n",
        "\n",
        "        elif self.dead == True:\n",
        "\n",
        "            if count <= 10:\n",
        "                self.height = self.height + 1 \n",
        "            \n",
        "            elif self.age >= 50:\n",
        "                prob_death = prob_death + 0.1\n",
        "\n",
        "            elif self.age >= 100:\n",
        "                self.dead = True \n",
        "        \n",
        "            elif self.age > 5 and self.age <= 10:\n",
        "                self.fruits = 100\n",
        "    \n",
        "            elif self.age > 10 and self.age < 15:\n",
        "                self.fruits = 200\n",
        "    \n",
        "            elif self.age <= 10:\n",
        "                self.height += 1\n",
        "        \n",
        "        elif self.dead == False:\n",
        "            return f'Tree is dead,'\n",
        "\n",
        "\n",
        "\n",
        "        \n",
        "\n",
        "        \n",
        "    def pick_a_fruit(picked):\n",
        "        self.fruit = self.fruit - picked\n",
        "        return f'You picked {picked} fruits. {self.fruit} remain.'\n",
        "\n"
      ],
      "metadata": {
        "id": "OZOxJg9c8RSG"
      },
      "execution_count": null,
      "outputs": []
    },
    {
      "cell_type": "code",
      "source": [
        "#Potion Class 101\n",
        "\n",
        "class Potion:\n",
        "    def __init__(self, color, volume):\n",
        "        pass\n",
        "    \n",
        "    def mix(self, other):\n",
        "        pass"
      ],
      "metadata": {
        "id": "UAeJ400k7gIU"
      },
      "execution_count": null,
      "outputs": []
    },
    {
      "cell_type": "code",
      "source": [
        "#User class for Banking System\n",
        "\n",
        "class User(object):\n",
        "    def __init__(self, name, balance, checking_account):\n",
        "        self.name = name\n",
        "        self.balance = balance\n",
        "        self.checking_account = checking_account\n",
        "    \n",
        "    #Instance Methods:\n",
        "\n",
        "    def withdraw(self, amount):\n",
        "        self.balance = self.balance - amount\n",
        "        if self.balance >= 0:\n",
        "            return f'{self.name} has {self.balance}.'\n",
        "        else:\n",
        "            raise ValueError('Insufficient balance')\n",
        "\n",
        "    def check(self, other_user, money):\n",
        "        if other_user.checking_account == False:\n",
        "            raise ValueError('checking_account = False')\n",
        "        elif other_user.balance - money < 0:\n",
        "            raise ValueError('Other user has insufficient funds')\n",
        "        else:\n",
        "            self.balance = self.balance + money\n",
        "            other_user.balance = other_user.balance - money\n",
        "            return f'{self.name} has {self.balance} and {other_user.name} has {other_user.balance}.'\n",
        "\n",
        "    def add_cash(self, money):\n",
        "        self.balance = self.balance + money\n",
        "        return f'{self.name} has {self.balance}.'\n",
        "\n",
        "james = User('james', 100, True)\n",
        "joe = User('joe', 150, True)\n",
        "\n",
        "#james.withdrawal(1)\n",
        "#james.check(joe, 500)\n",
        "#james.add_cash(500)\n"
      ],
      "metadata": {
        "colab": {
          "base_uri": "https://localhost:8080/",
          "height": 347
        },
        "id": "D6ykYcts1-na",
        "outputId": "b64d8b15-3646-423f-8082-524340cf3adc"
      },
      "execution_count": null,
      "outputs": [
        {
          "output_type": "error",
          "ename": "ValueError",
          "evalue": "ignored",
          "traceback": [
            "\u001b[0;31m---------------------------------------------------------------------------\u001b[0m",
            "\u001b[0;31mValueError\u001b[0m                                Traceback (most recent call last)",
            "\u001b[0;32m<ipython-input-31-4552c2301361>\u001b[0m in \u001b[0;36m<module>\u001b[0;34m\u001b[0m\n\u001b[1;32m     34\u001b[0m \u001b[0;34m\u001b[0m\u001b[0m\n\u001b[1;32m     35\u001b[0m \u001b[0;31m#james.withdrawal(1)\u001b[0m\u001b[0;34m\u001b[0m\u001b[0;34m\u001b[0m\u001b[0;34m\u001b[0m\u001b[0m\n\u001b[0;32m---> 36\u001b[0;31m \u001b[0mjames\u001b[0m\u001b[0;34m.\u001b[0m\u001b[0mcheck\u001b[0m\u001b[0;34m(\u001b[0m\u001b[0mjoe\u001b[0m\u001b[0;34m,\u001b[0m \u001b[0;36m500\u001b[0m\u001b[0;34m)\u001b[0m\u001b[0;34m\u001b[0m\u001b[0;34m\u001b[0m\u001b[0m\n\u001b[0m\u001b[1;32m     37\u001b[0m \u001b[0;31m#james.add_cash(500)\u001b[0m\u001b[0;34m\u001b[0m\u001b[0;34m\u001b[0m\u001b[0;34m\u001b[0m\u001b[0m\n",
            "\u001b[0;32m<ipython-input-31-4552c2301361>\u001b[0m in \u001b[0;36mcheck\u001b[0;34m(self, other_user, money)\u001b[0m\n\u001b[1;32m     20\u001b[0m             \u001b[0;32mraise\u001b[0m \u001b[0mValueError\u001b[0m\u001b[0;34m(\u001b[0m\u001b[0;34m'checking_account = False'\u001b[0m\u001b[0;34m)\u001b[0m\u001b[0;34m\u001b[0m\u001b[0;34m\u001b[0m\u001b[0m\n\u001b[1;32m     21\u001b[0m         \u001b[0;32melif\u001b[0m \u001b[0mother_user\u001b[0m\u001b[0;34m.\u001b[0m\u001b[0mbalance\u001b[0m \u001b[0;34m-\u001b[0m \u001b[0mmoney\u001b[0m \u001b[0;34m<\u001b[0m \u001b[0;36m0\u001b[0m\u001b[0;34m:\u001b[0m\u001b[0;34m\u001b[0m\u001b[0;34m\u001b[0m\u001b[0m\n\u001b[0;32m---> 22\u001b[0;31m             \u001b[0;32mraise\u001b[0m \u001b[0mValueError\u001b[0m\u001b[0;34m(\u001b[0m\u001b[0;34m'Other user has insufficient funds'\u001b[0m\u001b[0;34m)\u001b[0m\u001b[0;34m\u001b[0m\u001b[0;34m\u001b[0m\u001b[0m\n\u001b[0m\u001b[1;32m     23\u001b[0m         \u001b[0;32melse\u001b[0m\u001b[0;34m:\u001b[0m\u001b[0;34m\u001b[0m\u001b[0;34m\u001b[0m\u001b[0m\n\u001b[1;32m     24\u001b[0m             \u001b[0mself\u001b[0m\u001b[0;34m.\u001b[0m\u001b[0mbalance\u001b[0m \u001b[0;34m=\u001b[0m \u001b[0mself\u001b[0m\u001b[0;34m.\u001b[0m\u001b[0mbalance\u001b[0m \u001b[0;34m+\u001b[0m \u001b[0mmoney\u001b[0m\u001b[0;34m\u001b[0m\u001b[0;34m\u001b[0m\u001b[0m\n",
            "\u001b[0;31mValueError\u001b[0m: Other user has insufficient funds"
          ]
        }
      ]
    },
    {
      "cell_type": "code",
      "source": [
        "#Sleigh Authentication\n",
        "\n",
        "class Sleigh(object):\n",
        "    def authenticate(self, name, password):\n",
        "        if name == 'Santa Claus' and password == 'Ho Ho Ho!':\n",
        "            return True\n",
        "        else:\n",
        "            return False\n"
      ],
      "metadata": {
        "colab": {
          "base_uri": "https://localhost:8080/"
        },
        "id": "Iy9svIFK07go",
        "outputId": "d9c48a81-4d1b-4dba-a11a-635af122777e"
      },
      "execution_count": null,
      "outputs": [
        {
          "output_type": "execute_result",
          "data": {
            "text/plain": [
              "False"
            ]
          },
          "metadata": {},
          "execution_count": 21
        }
      ]
    },
    {
      "cell_type": "code",
      "source": [
        "#Object Oriented Piracy\n",
        "\n",
        "class Ship:\n",
        "    def __init__(self, draft, crew):\n",
        "        self.draft = draft\n",
        "        self.crew = crew\n",
        "\n",
        "    #Instance Method:\n",
        "\n",
        "    def is_worth_it(self):\n",
        "        crew_draft = self.crew*1.5\n",
        "        a = crew_draft - float(self.draft)\n",
        "        if a > 20:\n",
        "            return True\n",
        "        else:\n",
        "            return False\n",
        "\n",
        "EmptyShip = Ship(0,0)\n",
        "\n",
        "EmptyShip.is_worth_it()\n",
        "\n",
        "\n"
      ],
      "metadata": {
        "colab": {
          "base_uri": "https://localhost:8080/"
        },
        "id": "_N_i08J_y-9-",
        "outputId": "6260807f-bf04-4eb6-8212-aff8a7087bfa"
      },
      "execution_count": null,
      "outputs": [
        {
          "output_type": "execute_result",
          "data": {
            "text/plain": [
              "False"
            ]
          },
          "metadata": {},
          "execution_count": 17
        }
      ]
    },
    {
      "cell_type": "code",
      "source": [
        "#Regular Ball Super Ball\n",
        "\n",
        "class Ball:\n",
        "    def __init__(self, ball_type = 'regular'):\n",
        "        self.ball_type = ball_type\n",
        "        \n",
        "    \n",
        "balla = Ball()\n",
        "\n",
        "balla.ball_type\n",
        "\n"
      ],
      "metadata": {
        "colab": {
          "base_uri": "https://localhost:8080/",
          "height": 35
        },
        "id": "Poo00PcEtQwd",
        "outputId": "847d1d6d-8b33-4c17-c995-5f6dce30dba0"
      },
      "execution_count": null,
      "outputs": [
        {
          "output_type": "execute_result",
          "data": {
            "text/plain": [
              "'regular'"
            ],
            "application/vnd.google.colaboratory.intrinsic+json": {
              "type": "string"
            }
          },
          "metadata": {},
          "execution_count": 13
        }
      ]
    },
    {
      "cell_type": "code",
      "source": [
        "#Classy Classes\n",
        "\n",
        "class Person:\n",
        "    def __init__(self, name, age):\n",
        "        self.info = f\"{name}s age is {str(age)}\"\n",
        "\n",
        "john = Person('john', 34)\n",
        "john.info\n",
        "\n"
      ],
      "metadata": {
        "colab": {
          "base_uri": "https://localhost:8080/",
          "height": 35
        },
        "id": "KEHFa3MpRkz2",
        "outputId": "613cdcbb-b4c4-4fb3-eb28-ca82ce0b60b1"
      },
      "execution_count": null,
      "outputs": [
        {
          "output_type": "execute_result",
          "data": {
            "text/plain": [
              "'johns age is 34'"
            ],
            "application/vnd.google.colaboratory.intrinsic+json": {
              "type": "string"
            }
          },
          "metadata": {},
          "execution_count": 2
        }
      ]
    },
    {
      "cell_type": "code",
      "source": [
        "#Roman Numerals\n",
        "\n",
        "roman_num = {\n",
        "        'I': 1,\n",
        "        'IV': 4,\n",
        "        'V': 5,\n",
        "        'IX': 9,\n",
        "        'X': 10,\n",
        "        'XL': 40,\n",
        "        'L': 50,\n",
        "        'XC': 90,\n",
        "        'C': 100,\n",
        "        'CD': 400,\n",
        "        'D' : 500,\n",
        "        'CM': 900,\n",
        "        'M':1000,\n",
        "        }\n",
        "\n",
        "annoying_roman_num = {\n",
        "    'IV': 4,\n",
        "    'IX': 9,\n",
        "    'XL': 40,\n",
        "    'XC': 90,\n",
        "    'CD': 400,\n",
        "    'CM': 900,\n",
        "}\n",
        "\n",
        "def roman_to_int(s):\n",
        "    s_new = s\n",
        "    output_list =[]\n",
        "    if s in roman_num:\n",
        "        return roman_num.get(s) \n",
        "        \n",
        "    else:\n",
        "        for num in annoying_roman_num:\n",
        "            if num in s:\n",
        "                output_list.append(annoying_roman_num.get(num))\n",
        "                s_new = s_new.replace(num, '')    \n",
        "        for char in s_new:\n",
        "                output_list.append(roman_num.get(char))\n",
        "                \n",
        "    return sum(output_list)\n",
        "\n",
        "roman_to_int('XLIX')"
      ],
      "metadata": {
        "colab": {
          "base_uri": "https://localhost:8080/"
        },
        "id": "rdTnd4tQ743n",
        "outputId": "1983e88b-d6f6-494c-893a-71fbbd787260"
      },
      "execution_count": null,
      "outputs": [
        {
          "output_type": "execute_result",
          "data": {
            "text/plain": [
              "49"
            ]
          },
          "metadata": {},
          "execution_count": 81
        }
      ]
    },
    {
      "cell_type": "code",
      "source": [
        "#Advanced Burger\n",
        "\n",
        "menu = {\n",
        "    \n",
        "    'Hamburger': 250, \n",
        "    'Cheese Burger': 300, \n",
        "    'Big Mac': 540,\n",
        "    'McChicken': 350,\n",
        "    'French Fries': 230,\n",
        "    'Salad': 15,\n",
        "    'Coca Cola': 150, \n",
        "    'Sprite':150, \n",
        "    'Happy Meal': ['Cheese Burger', 'French Fries', 'Coca Cola'],\n",
        "    'Best Of Big Mac': ['Big Mac', 'French Fries', 'Coca Cola'],\n",
        "    'Best Of McChicken': ['McChicken', 'Salad', 'Sprite'],\n",
        "\n",
        "    }\n",
        "\n",
        "meals = [\n",
        "    'Happy Meal',\n",
        "    'Best Of Big Mac',\n",
        "    'Best Of McChicken'\n",
        "    ]\n",
        "\n",
        "def advanced_calories_counter(a):\n",
        "    \n",
        "    for ele in a:\n",
        "        if  ele not in menu:\n",
        "            return f'{ele} not found'\n",
        "\n",
        "    newlist = []\n",
        "\n",
        "    for ele in a:\n",
        "        if ele in meals:\n",
        "            b = menu.get(ele)\n",
        "            for v in b:\n",
        "              c = menu.get(v)\n",
        "              newlist.append(c)\n",
        "        else:\n",
        "            d = menu.get(ele)\n",
        "            newlist.append(d)\n",
        "        \n",
        "        \n",
        "    return sum(newlist)\n",
        "\n",
        "\n",
        "advanced_calories_counter([\"Big Mac\", \"French Fries\", \"Happy Meal\", \"Coca Cola\"])"
      ],
      "metadata": {
        "colab": {
          "base_uri": "https://localhost:8080/"
        },
        "id": "yHvcIsGuTGUE",
        "outputId": "5703edfc-6121-43a7-83d9-0b25e94921af"
      },
      "execution_count": null,
      "outputs": [
        {
          "output_type": "execute_result",
          "data": {
            "text/plain": [
              "1600"
            ]
          },
          "metadata": {},
          "execution_count": 25
        }
      ]
    },
    {
      "cell_type": "code",
      "source": [
        "#Simple Burger\n",
        "\n",
        "menu = {\n",
        "    'Hamburger': 250, \n",
        "    'Cheese Burger': 300, \n",
        "    'Big Mac': 540,\n",
        "    'McChicken': 350,\n",
        "    'French Fries': 230,\n",
        "    'Salad': 15,\n",
        "    'Coca Cola': 150, \n",
        "    'Sprite':150\n",
        "    }\n",
        "\n",
        "def poor_calories_counter(a, b, c):\n",
        "    \n",
        "    if a not in menu:\n",
        "        return f'{a} not found'\n",
        "    elif b not in menu:\n",
        "        return f'{b} not found'\n",
        "    elif c not in menu:\n",
        "        return f'{a} not found'\n",
        "        \n",
        "    v1 = menu.get(a)\n",
        "    v2 = menu.get(b)\n",
        "    v3 = menu.get(c)\n",
        "\n",
        "    return v1 + v2 + v3\n",
        "\n",
        "\n",
        "poor_calorie_counter('Hamburger', 'Cheese Burger', 'Big Mac')\n",
        "\n",
        "\n"
      ],
      "metadata": {
        "colab": {
          "base_uri": "https://localhost:8080/"
        },
        "id": "_VNeybheK-kg",
        "outputId": "84c6926d-1e58-4a83-aae5-921014cbcf00"
      },
      "execution_count": null,
      "outputs": [
        {
          "output_type": "execute_result",
          "data": {
            "text/plain": [
              "1090"
            ]
          },
          "metadata": {},
          "execution_count": 62
        }
      ]
    },
    {
      "cell_type": "code",
      "source": [
        "#Multiplication Table\n",
        "\n",
        "def multiplication_table(size):\n",
        "    multiplicants = [i+1 for i in range(size)]\n",
        "    output_list =[]\n",
        "\n",
        "    for num in multiplicants:\n",
        "        product = [num*(i) for i in multiplicants]\n",
        "        output_list.append(product)\n",
        "\n",
        "    return output_list\n",
        "\n",
        "\n",
        "multiplication_table(3)"
      ],
      "metadata": {
        "colab": {
          "base_uri": "https://localhost:8080/"
        },
        "id": "NIu3X23vIbce",
        "outputId": "80eed9ac-d84d-49aa-90ca-0f056bfd4827"
      },
      "execution_count": null,
      "outputs": [
        {
          "output_type": "execute_result",
          "data": {
            "text/plain": [
              "[[1, 2, 3], [2, 4, 6], [3, 6, 9]]"
            ]
          },
          "metadata": {},
          "execution_count": 60
        }
      ]
    },
    {
      "cell_type": "code",
      "source": [
        "#Mexcian Wave\n",
        "\n",
        "def wave(people):\n",
        "    s = people\n",
        "    numlist = [s for char in s]\n",
        "    nestlist = [list(ele) for ele in numlist]\n",
        "    output_list = []\n",
        "\n",
        "    for i, word in enumerate(nestlist):\n",
        "        if word[i] == \" \":\n",
        "            pass\n",
        "        else:\n",
        "            word[i] = word[i].upper()\n",
        "            output = ''.join(word)\n",
        "            output_list.append(output)\n",
        "    return output_list\n",
        "        \n",
        "    \n",
        "wave('two words')"
      ],
      "metadata": {
        "colab": {
          "base_uri": "https://localhost:8080/"
        },
        "id": "WbSso05H989l",
        "outputId": "e2072259-10c5-405a-b0f6-49f81ac64069"
      },
      "execution_count": null,
      "outputs": [
        {
          "output_type": "execute_result",
          "data": {
            "text/plain": [
              "['Two words',\n",
              " 'tWo words',\n",
              " 'twO words',\n",
              " 'two Words',\n",
              " 'two wOrds',\n",
              " 'two woRds',\n",
              " 'two worDs',\n",
              " 'two wordS']"
            ]
          },
          "metadata": {},
          "execution_count": 51
        }
      ]
    },
    {
      "cell_type": "code",
      "source": [
        "#Manhattan Distance\n",
        "\n",
        "def manhattan_distance(pointA, pointB):\n",
        "    #abs_pointA = [abs(num) for num in pointA]\n",
        "    #abs_pointB = [abs(num) for num in pointB]\n",
        "    \n",
        "    diffx = abs(abs_pointA[0] - abs_pointB[0])\n",
        "    diffy = abs(abs_pointA[1] - abs_pointB[1])\n",
        "    return abs(diffx + diffy)\n",
        "\n",
        "manhattan_distance([1,1],[0,3])\n",
        "\n"
      ],
      "metadata": {
        "id": "4dhUpM0kFDmE",
        "colab": {
          "base_uri": "https://localhost:8080/"
        },
        "outputId": "a74cdfa6-ca81-4ecf-e265-2e4c0dc8741d"
      },
      "execution_count": null,
      "outputs": [
        {
          "output_type": "stream",
          "name": "stdout",
          "text": [
            "[0, 3]\n"
          ]
        },
        {
          "output_type": "execute_result",
          "data": {
            "text/plain": [
              "3"
            ]
          },
          "metadata": {},
          "execution_count": 8
        }
      ]
    },
    {
      "cell_type": "code",
      "source": [
        "#Return a string's even characters.\n",
        "\n",
        "def even_chars(st):\n",
        "  if len(st) > 100 or len(st) < 2:\n",
        "    return 'invalid string'\n",
        "  new_list = [char for char in st]\n",
        "  output_list = [ele for i, ele in enumerate(new_list) if i % 2 != 0]\n",
        "  return output_list\n",
        "  \n",
        "\n",
        "even_chars('aBc_e9g*i-k$m')"
      ],
      "metadata": {
        "colab": {
          "base_uri": "https://localhost:8080/"
        },
        "id": "TKP0rbuHCFbg",
        "outputId": "ae98343c-c9ac-4ceb-d3b5-64b9c88814c6"
      },
      "execution_count": null,
      "outputs": [
        {
          "output_type": "execute_result",
          "data": {
            "text/plain": [
              "['B', '_', '9', '*', '-', '$']"
            ]
          },
          "metadata": {},
          "execution_count": 143
        }
      ]
    },
    {
      "cell_type": "code",
      "source": [
        "#Shuffle\n",
        "\n",
        "import random\n",
        "\n",
        "def manual_shuffle(l):\n",
        "    li = l.copy()\n",
        "    output_array =[]\n",
        "    for i in range(len(li)):\n",
        "      key = random.choice(li)\n",
        "      li.remove(key)\n",
        "      output_array.append(key)\n",
        "    return output_array\n",
        "\n",
        "\n",
        "manual_shuffle([1, 2, 3])"
      ],
      "metadata": {
        "colab": {
          "base_uri": "https://localhost:8080/"
        },
        "id": "jXrp2Btd9gIf",
        "outputId": "e1b06298-cc34-4379-8050-7e8362983cdc"
      },
      "execution_count": null,
      "outputs": [
        {
          "output_type": "execute_result",
          "data": {
            "text/plain": [
              "[3, 1, 2]"
            ]
          },
          "metadata": {},
          "execution_count": 129
        }
      ]
    },
    {
      "cell_type": "code",
      "source": [
        "#Fizz Buzz\n",
        "\n",
        "def fizz_buzz(num):\n",
        "    l = [i for i in range(num+1) if i != 0]\n",
        "    print(l)\n",
        "    for ele in l:\n",
        "        if ele % 3 == 0 and ele % 5 != 0:\n",
        "            l[l.index(ele)] = 'Fizz'\n",
        "        elif ele % 3 != 0 and ele % 5 == 0:\n",
        "            l[l.index(ele)] = 'Buzz'\n",
        "        elif ele % 3 == 0 and ele % 5 == 0:\n",
        "            l[l.index(ele)] = 'FizzBuzz'\n",
        "    return l\n",
        "    \n",
        "\n",
        "fizz_buzz(50)"
      ],
      "metadata": {
        "colab": {
          "base_uri": "https://localhost:8080/"
        },
        "id": "7E1XuA1K20nP",
        "outputId": "2a069b74-1273-4ea2-ff91-8345cb27f6bb"
      },
      "execution_count": null,
      "outputs": [
        {
          "output_type": "stream",
          "name": "stdout",
          "text": [
            "[1, 2, 3, 4, 5, 6, 7, 8, 9, 10, 11, 12, 13, 14, 15, 16, 17, 18, 19, 20, 21, 22, 23, 24, 25, 26, 27, 28, 29, 30, 31, 32, 33, 34, 35, 36, 37, 38, 39, 40, 41, 42, 43, 44, 45, 46, 47, 48, 49, 50]\n"
          ]
        },
        {
          "output_type": "execute_result",
          "data": {
            "text/plain": [
              "[1,\n",
              " 2,\n",
              " 'Fizz',\n",
              " 4,\n",
              " 'Buzz',\n",
              " 'Fizz',\n",
              " 7,\n",
              " 8,\n",
              " 'Fizz',\n",
              " 'Buzz',\n",
              " 11,\n",
              " 'Fizz',\n",
              " 13,\n",
              " 14,\n",
              " 'FizzBuzz',\n",
              " 16,\n",
              " 17,\n",
              " 'Fizz',\n",
              " 19,\n",
              " 'Buzz',\n",
              " 'Fizz',\n",
              " 22,\n",
              " 23,\n",
              " 'Fizz',\n",
              " 'Buzz',\n",
              " 26,\n",
              " 'Fizz',\n",
              " 28,\n",
              " 29,\n",
              " 'FizzBuzz',\n",
              " 31,\n",
              " 32,\n",
              " 'Fizz',\n",
              " 34,\n",
              " 'Buzz',\n",
              " 'Fizz',\n",
              " 37,\n",
              " 38,\n",
              " 'Fizz',\n",
              " 'Buzz',\n",
              " 41,\n",
              " 'Fizz',\n",
              " 43,\n",
              " 44,\n",
              " 'FizzBuzz',\n",
              " 46,\n",
              " 47,\n",
              " 'Fizz',\n",
              " 49,\n",
              " 'Buzz']"
            ]
          },
          "metadata": {},
          "execution_count": 126
        }
      ]
    },
    {
      "cell_type": "code",
      "source": [
        "#Calculator\n",
        "\n",
        "import operator\n",
        "\n",
        "def simple_calculator(op):\n",
        "    print(op[1])\n",
        "    operators = {'+', '-','*', '/', '%'}\n",
        "    if len(op) != 3:\n",
        "        return 'Please enter valid format: [Operand, Operator, Operand]'\n",
        "    elif op[1] not in operators:\n",
        "            return 'Please enter a valid operator [+, -, /, *, % ]'\n",
        "\n",
        "    calc = [float(ele) for ele in op if ele not in operators] \n",
        "    ops = { \"+\": operator.add, \"-\": operator.sub, '/': operator.truediv, '*': operator.mul, '%': operator.mod}\n",
        "    \n",
        "    return ops[op[1]](calc[0], calc[1])\n",
        "\n",
        "\n",
        "simple_calculator(['1', '+', '2'])"
      ],
      "metadata": {
        "id": "FyVns65itUyG",
        "colab": {
          "base_uri": "https://localhost:8080/"
        },
        "outputId": "40a6db14-e629-4d68-ab29-dae16946992c"
      },
      "execution_count": null,
      "outputs": [
        {
          "output_type": "stream",
          "name": "stdout",
          "text": [
            "+\n"
          ]
        },
        {
          "output_type": "execute_result",
          "data": {
            "text/plain": [
              "3.0"
            ]
          },
          "metadata": {},
          "execution_count": 87
        }
      ]
    },
    {
      "cell_type": "code",
      "source": [
        "#Password Maker\n",
        "\n",
        "def make_password(s):\n",
        "\n",
        "    output_list = []\n",
        "\n",
        "    for char in s:\n",
        "        if char == 'o' or char == 'O':\n",
        "            s = s.replace(char, '0')\n",
        "    for char in s:   \n",
        "        if char == 'i' or char == 'I':\n",
        "            s = s.replace(char, '1')\n",
        "    for char in s:         \n",
        "        if char == 's' or char == 'S':\n",
        "            s = s.replace(char, '5')\n",
        "\n",
        "    s_list = s.split(\" \")\n",
        "    print(s_list)\n",
        "\n",
        "    for ele in s_list:\n",
        "        output_list.append(ele[0])\n",
        "    \n",
        "    output = ''.join(output_list)\n",
        "    \n",
        "    return output\n",
        "\n",
        "   \n",
        "make_password('VE jxotxaJYCB SZpR EHXdOX mXwrXVnFEb qoRXxtxzC')\n"
      ],
      "metadata": {
        "colab": {
          "base_uri": "https://localhost:8080/",
          "height": 71
        },
        "id": "zD1uSdEigui2",
        "outputId": "3f0d70a0-cf4f-42a9-cf30-6d61bf644303"
      },
      "execution_count": null,
      "outputs": [
        {
          "output_type": "stream",
          "name": "stdout",
          "text": [
            "VE jx0txaJYCB 5ZpR EHXd0X mXwrXVnFEb q0RXxtxzC\n",
            "['VE', 'jx0txaJYCB', '5ZpR', 'EHXd0X', 'mXwrXVnFEb', 'q0RXxtxzC']\n"
          ]
        },
        {
          "output_type": "execute_result",
          "data": {
            "text/plain": [
              "'Vj5Emq'"
            ],
            "application/vnd.google.colaboratory.intrinsic+json": {
              "type": "string"
            }
          },
          "metadata": {},
          "execution_count": 68
        }
      ]
    },
    {
      "cell_type": "code",
      "source": [
        "#Password validator\n",
        "def password(string):\n",
        "\n",
        "    num_list = [int(char) for char in string if char.isdigit()]\n",
        "    upper_list = [str(char) for char in string if char.isupper()]\n",
        "    lower_list = [str(char) for char in string if char.islower()]\n",
        "    \n",
        "    if len(string) >= 8 and len(num_list) >= 1 and len(upper_list) >= 1 and len(lower_list) >= 1:\n",
        "        return True\n",
        "    else:\n",
        "        return False\n",
        "\n",
        "password('Abcd1234')"
      ],
      "metadata": {
        "colab": {
          "base_uri": "https://localhost:8080/"
        },
        "id": "7WGwsBHs5sTD",
        "outputId": "5088f932-c3ce-4f56-8468-93fcc81a0c3e"
      },
      "execution_count": null,
      "outputs": [
        {
          "output_type": "execute_result",
          "data": {
            "text/plain": [
              "True"
            ]
          },
          "metadata": {},
          "execution_count": 28
        }
      ]
    },
    {
      "cell_type": "code",
      "source": [
        "#Strip Comments\n",
        "\n",
        "def strip_comments(strng, markers):\n",
        "    marker1_index = [i for i, char in enumerate(strng) if char == markers[0]]\n",
        "    marker2_index = [i for i, char in enumerate(strng) if char == markers[1]]\n",
        "    marker_index = marker1_index + marker2_index\n",
        "    linebreak_index = [i for i, char in enumerate(strng) if char == '\\n']\n",
        "    #print(marker1_index)\n",
        "    #print(marker2_index)\n",
        "    print(marker_index)\n",
        "    print(linebreak_index)\n",
        "    stripped_strng = strng\n",
        "\n",
        "    list_linebreak = []\n",
        "    placeholder = ''\n",
        "\n",
        "    for ele in linebreak_index:\n",
        "      list_linebreak.append(strng[:ele])\n",
        "\n",
        "    for ele in marker_index:\n",
        "      stripped = strng[ele:] \n",
        "      #try and specify new line break? perhaps split string before for loop application?\n",
        "      print(stripped)\n",
        "      stripped_strng = stripped_strng.replace(strng[ele:])\n",
        "    \n",
        "    if min(marker1_index) < min(marker2_index) and min(marker2_index) > min(linebreak_index):\n",
        "      stripped1 = strng[min(marker1_index): min(linebreak_index)]\n",
        "      print(stripped1)\n",
        "      stripped_strng1 = strng.replace(stripped1, '') \n",
        "      stripped2 = strng[min(marker2_index):]\n",
        "      print(stripped2)\n",
        "      stripped_strng2 = stripped_strng1.replace(stripped2, '')\n",
        "    return stripped_strng2\n",
        "\n",
        "strip_comments('apples, pears # and bananas\\ngrapes\\nbananas !apples', ['#', '!'])"
      ],
      "metadata": {
        "colab": {
          "base_uri": "https://localhost:8080/",
          "height": 419
        },
        "id": "B1Isht1QrA77",
        "outputId": "e4f6b36c-455d-4d7b-9e86-a55692c25788"
      },
      "execution_count": null,
      "outputs": [
        {
          "output_type": "stream",
          "name": "stdout",
          "text": [
            "[14, 43]\n",
            "[27, 34]\n",
            "# and bananas\n",
            "grapes\n",
            "bananas !apples\n"
          ]
        },
        {
          "output_type": "error",
          "ename": "TypeError",
          "evalue": "ignored",
          "traceback": [
            "\u001b[0;31m---------------------------------------------------------------------------\u001b[0m",
            "\u001b[0;31mTypeError\u001b[0m                                 Traceback (most recent call last)",
            "\u001b[0;32m<ipython-input-87-e8686a40eacd>\u001b[0m in \u001b[0;36m<module>\u001b[0;34m\u001b[0m\n\u001b[1;32m     33\u001b[0m     \u001b[0;32mreturn\u001b[0m \u001b[0mstripped_strng2\u001b[0m\u001b[0;34m\u001b[0m\u001b[0;34m\u001b[0m\u001b[0m\n\u001b[1;32m     34\u001b[0m \u001b[0;34m\u001b[0m\u001b[0m\n\u001b[0;32m---> 35\u001b[0;31m \u001b[0mstrip_comments\u001b[0m\u001b[0;34m(\u001b[0m\u001b[0;34m'apples, pears # and bananas\\ngrapes\\nbananas !apples'\u001b[0m\u001b[0;34m,\u001b[0m \u001b[0;34m[\u001b[0m\u001b[0;34m'#'\u001b[0m\u001b[0;34m,\u001b[0m \u001b[0;34m'!'\u001b[0m\u001b[0;34m]\u001b[0m\u001b[0;34m)\u001b[0m\u001b[0;34m\u001b[0m\u001b[0;34m\u001b[0m\u001b[0m\n\u001b[0m",
            "\u001b[0;32m<ipython-input-87-e8686a40eacd>\u001b[0m in \u001b[0;36mstrip_comments\u001b[0;34m(strng, markers)\u001b[0m\n\u001b[1;32m     22\u001b[0m       \u001b[0;31m#try and specify new line break? perhaps split string before for loop application?\u001b[0m\u001b[0;34m\u001b[0m\u001b[0;34m\u001b[0m\u001b[0;34m\u001b[0m\u001b[0m\n\u001b[1;32m     23\u001b[0m       \u001b[0mprint\u001b[0m\u001b[0;34m(\u001b[0m\u001b[0mstripped\u001b[0m\u001b[0;34m)\u001b[0m\u001b[0;34m\u001b[0m\u001b[0;34m\u001b[0m\u001b[0m\n\u001b[0;32m---> 24\u001b[0;31m       \u001b[0mstripped_strng\u001b[0m \u001b[0;34m=\u001b[0m \u001b[0mstripped_strng\u001b[0m\u001b[0;34m.\u001b[0m\u001b[0mreplace\u001b[0m\u001b[0;34m(\u001b[0m\u001b[0mstrng\u001b[0m\u001b[0;34m[\u001b[0m\u001b[0mele\u001b[0m\u001b[0;34m:\u001b[0m\u001b[0;34m]\u001b[0m\u001b[0;34m)\u001b[0m\u001b[0;34m\u001b[0m\u001b[0;34m\u001b[0m\u001b[0m\n\u001b[0m\u001b[1;32m     25\u001b[0m \u001b[0;34m\u001b[0m\u001b[0m\n\u001b[1;32m     26\u001b[0m     \u001b[0;32mif\u001b[0m \u001b[0mmin\u001b[0m\u001b[0;34m(\u001b[0m\u001b[0mmarker1_index\u001b[0m\u001b[0;34m)\u001b[0m \u001b[0;34m<\u001b[0m \u001b[0mmin\u001b[0m\u001b[0;34m(\u001b[0m\u001b[0mmarker2_index\u001b[0m\u001b[0;34m)\u001b[0m \u001b[0;32mand\u001b[0m \u001b[0mmin\u001b[0m\u001b[0;34m(\u001b[0m\u001b[0mmarker2_index\u001b[0m\u001b[0;34m)\u001b[0m \u001b[0;34m>\u001b[0m \u001b[0mmin\u001b[0m\u001b[0;34m(\u001b[0m\u001b[0mlinebreak_index\u001b[0m\u001b[0;34m)\u001b[0m\u001b[0;34m:\u001b[0m\u001b[0;34m\u001b[0m\u001b[0;34m\u001b[0m\u001b[0m\n",
            "\u001b[0;31mTypeError\u001b[0m: replace() takes at least 2 arguments (1 given)"
          ]
        }
      ]
    },
    {
      "cell_type": "code",
      "source": [
        "#Sum of two lowest positive integers\n",
        "\n",
        "def sum_two_smallest_numbers(numbers):\n",
        "    output = []\n",
        "    num1 = numbers.pop(numbers.index(min(numbers)))\n",
        "    output.append(num1)\n",
        "    num2 = numbers.pop(numbers.index(min(numbers)))\n",
        "    output.append(num2)\n",
        "    return sum(output)\n",
        "\n",
        "#or... the better version:\n",
        "\n",
        "def sum_two_smallest_numbers(numbers):\n",
        "    numbers.sort()\n",
        "    return numbers[0] + numbers[1]\n",
        "    \n",
        "\n",
        "sum_two_smallest_numbers([5, 8, 12, 18, 22])"
      ],
      "metadata": {
        "colab": {
          "base_uri": "https://localhost:8080/"
        },
        "id": "3WVwgSxDnhT7",
        "outputId": "439bcd0b-7d10-4c11-9998-467f866779aa"
      },
      "execution_count": null,
      "outputs": [
        {
          "output_type": "execute_result",
          "data": {
            "text/plain": [
              "13"
            ]
          },
          "metadata": {},
          "execution_count": 34
        }
      ]
    },
    {
      "cell_type": "code",
      "source": [
        "#Running out of space\n",
        "\n",
        "def spacey(array):\n",
        "    output_list = []\n",
        "    #print(len(array))\n",
        "    placeholder = \"\"\n",
        "    for i in range(len(array)):\n",
        "      placeholder += array[i]\n",
        "      output_list.append(placeholder)\n",
        "    return output_list\n",
        "\n",
        "spacey(['kevin', 'has','no','space'])"
      ],
      "metadata": {
        "colab": {
          "base_uri": "https://localhost:8080/"
        },
        "id": "4BXSK0vsQ_C3",
        "outputId": "7d1c07df-cf39-4331-fdda-6e40ce225ab2"
      },
      "execution_count": null,
      "outputs": [
        {
          "output_type": "execute_result",
          "data": {
            "text/plain": [
              "['kevin', 'kevinhas', 'kevinhasno', 'kevinhasnospace']"
            ]
          },
          "metadata": {},
          "execution_count": 19
        }
      ]
    },
    {
      "cell_type": "code",
      "source": [
        "# Testing 1-2-3\n",
        "def number(lines):\n",
        "    return [f\"{str(index+1)}: {ele}\" for index, ele in enumerate(lines)]\n",
        "\n",
        "number(['a', 'b', 'c'])"
      ],
      "metadata": {
        "colab": {
          "base_uri": "https://localhost:8080/"
        },
        "id": "MJDFCVlGJbg3",
        "outputId": "b0dd774b-60ed-4406-bdab-551ec3226249"
      },
      "execution_count": null,
      "outputs": [
        {
          "output_type": "execute_result",
          "data": {
            "text/plain": [
              "['1: a', '2: b', '3: c']"
            ]
          },
          "metadata": {},
          "execution_count": 48
        }
      ]
    },
    {
      "cell_type": "markdown",
      "source": [],
      "metadata": {
        "id": "A5OLZogdKIVJ"
      }
    },
    {
      "cell_type": "code",
      "source": [
        "#Colorful Algorithm (A colourful algorithm )\n",
        "\n",
        "def is_colorful(num):\n",
        "    subset = [int(char) for char in str(num)]\n",
        "    \n",
        "    if len(subset) == 3:\n",
        "        subset.append(subset[0]*subset[1])\n",
        "        subset.append(subset[1]*subset[-1])\n",
        "        subset.append(subset[0]*subset[1]*subset[2])\n",
        "\n",
        "    elif len(subset) == 2:\n",
        "        subset.append(subset[0]*subset[1])\n",
        "\n",
        "    print(subset)\n",
        "    for num in subset:\n",
        "        if subset.count(num) > 1:\n",
        "            print(num)\n",
        "            print(subset.count(num))\n",
        "            return False\n",
        "    else:\n",
        "        return True\n",
        "\n",
        "is_colorful(49)"
      ],
      "metadata": {
        "colab": {
          "base_uri": "https://localhost:8080/"
        },
        "id": "2RbdNDLqAYj5",
        "outputId": "6fd00839-7f90-41f2-d498-ec8972404654"
      },
      "execution_count": null,
      "outputs": [
        {
          "output_type": "stream",
          "name": "stdout",
          "text": [
            "[4, 9, 36]\n"
          ]
        },
        {
          "output_type": "execute_result",
          "data": {
            "text/plain": [
              "True"
            ]
          },
          "metadata": {},
          "execution_count": 21
        }
      ]
    },
    {
      "cell_type": "code",
      "source": [
        "#IP Validation\n",
        "def is_valid_IP(strng):\n",
        "    if \" \" in strng or strng == \"\":\n",
        "        return False\n",
        "    for char in strng:\n",
        "        if char in \"abcdefghijklmnopqrstuvwxyz\\n\" or char == \" \":\n",
        "            return False\n",
        "    if \"..\" in strng:\n",
        "        return False\n",
        "    a = strng.split(\".\")\n",
        "    print(len(a))\n",
        "    print(a)\n",
        "    if len(a) < 4 or len(a) > 4:\n",
        "        return False\n",
        "    for ele in a:\n",
        "        if ele == '':\n",
        "            return False\n",
        "        elif int(ele) > 255 or int(ele) < 0:\n",
        "            return False\n",
        "        elif int(ele) < 100 and int(ele) != 0 and ele[0] == \"0\":\n",
        "            return False\n",
        "        elif int(ele) == 0 and ele != \"0\":\n",
        "            return False  \n",
        "    else:\n",
        "        return True\n",
        "is_valid_IP(\"123.045.067.089\")\n",
        "\n",
        "#Model Answer:\n",
        "\n",
        "def is_valid_IP(strng):\n",
        "    if len(strng.split(\".\")) != 4:\n",
        "        return False\n",
        "    \n",
        "    for group in strng.split(\".\"):\n",
        "        if not group.isdigit() or group != str(int(group)) or not 0 <= int(group) <= 255:\n",
        "            return False\n",
        "    \n",
        "    return True"
      ],
      "metadata": {
        "colab": {
          "base_uri": "https://localhost:8080/"
        },
        "id": "XITkkJBHBKkV",
        "outputId": "6c6acba2-e529-4bc9-e1ee-ef699ddac753"
      },
      "execution_count": null,
      "outputs": [
        {
          "output_type": "stream",
          "name": "stdout",
          "text": [
            "4\n",
            "['123', '045', '067', '089']\n"
          ]
        },
        {
          "output_type": "execute_result",
          "data": {
            "text/plain": [
              "False"
            ]
          },
          "metadata": {},
          "execution_count": 50
        }
      ]
    },
    {
      "cell_type": "code",
      "source": [
        "#Training on List Filtering\n",
        "def filter_list(l):\n",
        "    return [num for num in l if type(num) == int]\n",
        "\n",
        "filter_list([1,\"a\",2,\"b\",3,\"c\"])"
      ],
      "metadata": {
        "colab": {
          "base_uri": "https://localhost:8080/"
        },
        "id": "_RFPvp6vMxb7",
        "outputId": "c3c2a95c-74b7-44a5-cf7e-7ca8ac63453e"
      },
      "execution_count": null,
      "outputs": [
        {
          "output_type": "execute_result",
          "data": {
            "text/plain": [
              "[1, 2, 3]"
            ]
          },
          "metadata": {},
          "execution_count": 51
        }
      ]
    },
    {
      "cell_type": "code",
      "source": [
        "# ??? return tdigits backwards in order requires index switch \n",
        "def digitize(n):\n",
        "    list = [int(num) for num in str(n)]\n",
        "    return sorted(list, reverse=True)\n",
        "\n",
        "digitize(12345)"
      ],
      "metadata": {
        "colab": {
          "base_uri": "https://localhost:8080/"
        },
        "id": "YoR6h1CdJ9V-",
        "outputId": "8f9f1dc5-6bad-4b07-c217-432da6e965b6"
      },
      "execution_count": null,
      "outputs": [
        {
          "output_type": "stream",
          "name": "stdout",
          "text": [
            "[1, 2, 3, 4, 5]\n"
          ]
        },
        {
          "output_type": "execute_result",
          "data": {
            "text/plain": [
              "[5, 4, 3, 2, 1]"
            ]
          },
          "metadata": {},
          "execution_count": 46
        }
      ]
    },
    {
      "cell_type": "code",
      "source": [
        "#Persistent Bugger\n",
        "import numpy as np\n",
        "def persistence(n):\n",
        "    if n < 10:\n",
        "      return 0\n",
        "    count = 1\n",
        "    list_digits = [int(char) for char in str(n)]\n",
        "    # print(np.prod(list_digits))\n",
        "    while np.prod(list_digits) >= 10:\n",
        "        count += 1\n",
        "        n1 = np.prod(list_digits)\n",
        "        print(n1)\n",
        "        list_digits = [int(char) for char in str(n1)]\n",
        "    \n",
        "    return count\n",
        "\n",
        "persistence(25)\n",
        "\n"
      ],
      "metadata": {
        "id": "UN2b_MXaxySz",
        "colab": {
          "base_uri": "https://localhost:8080/"
        },
        "outputId": "b2717323-2a1e-42aa-985d-daaa85aeaf88"
      },
      "execution_count": null,
      "outputs": [
        {
          "output_type": "stream",
          "name": "stdout",
          "text": [
            "10\n"
          ]
        },
        {
          "output_type": "execute_result",
          "data": {
            "text/plain": [
              "2"
            ]
          },
          "metadata": {},
          "execution_count": 25
        }
      ]
    },
    {
      "cell_type": "code",
      "source": [
        "#Remove the minimum\n",
        "\n",
        "def remove_smallest(numbers):\n",
        "    if numbers == []:\n",
        "      return []\n",
        "    copy = numbers.copy()\n",
        "    copy.remove(min(numbers))\n",
        "    return copy\n",
        "\n",
        "remove_smallest([1, 2, 3, 1, 1])"
      ],
      "metadata": {
        "id": "DdbV1BG3P4dg",
        "colab": {
          "base_uri": "https://localhost:8080/"
        },
        "outputId": "b595b9f9-e238-4e9d-9423-7438be0578d6"
      },
      "execution_count": null,
      "outputs": [
        {
          "output_type": "execute_result",
          "data": {
            "text/plain": [
              "[2, 3, 1, 1]"
            ]
          },
          "metadata": {},
          "execution_count": 3
        }
      ]
    },
    {
      "cell_type": "code",
      "source": [
        "#Dont' give me five! Really!\n",
        "def dont_give_me_five(start,end):\n",
        "    return sum('5'not in str(i) for i in range(start, end+1))\n",
        "\n",
        "\n",
        "dont_give_me_five(595,601)"
      ],
      "metadata": {
        "colab": {
          "base_uri": "https://localhost:8080/"
        },
        "id": "nxov4cWcFlA6",
        "outputId": "0f61c9d2-d3b5-481d-dcfe-1e1d7509cf55"
      },
      "execution_count": null,
      "outputs": [
        {
          "output_type": "execute_result",
          "data": {
            "text/plain": [
              "2"
            ]
          },
          "metadata": {},
          "execution_count": 35
        }
      ]
    },
    {
      "cell_type": "code",
      "source": [
        "#Don't give me five!\n",
        "def dont_give_me_five(start,end):\n",
        "  list = [i for i in range(start, end+1) if not(\"5\" in str(i))]\n",
        "  return len(list)\n",
        "\n",
        "dont_give_me_five(595,601)"
      ],
      "metadata": {
        "colab": {
          "base_uri": "https://localhost:8080/"
        },
        "id": "QVefGhErOQkb",
        "outputId": "7b438d72-69a4-48e0-a513-ae8220d05c11"
      },
      "execution_count": null,
      "outputs": [
        {
          "output_type": "execute_result",
          "data": {
            "text/plain": [
              "2"
            ]
          },
          "metadata": {},
          "execution_count": 27
        }
      ]
    },
    {
      "cell_type": "code",
      "execution_count": null,
      "metadata": {
        "id": "kCeH9oQcCPGs",
        "outputId": "575df151-31cf-4514-84bd-08eb7d90db6c",
        "colab": {
          "base_uri": "https://localhost:8080/"
        }
      },
      "outputs": [
        {
          "output_type": "stream",
          "name": "stdout",
          "text": [
            "6\n"
          ]
        }
      ],
      "source": [
        "# The Supermarket Queue\n",
        "\n",
        "full_till=[]\n",
        "final_till_time =[]\n",
        "def queue_time(customers, n):\n",
        "  if len(customers) == 0:\n",
        "    return 0\n",
        "  elif len(customers) <= n:\n",
        "    total_number = max(customers)\n",
        "    return total_number\n",
        "\n",
        "  elif len(customers) > n:\n",
        "    for i in range(n):\n",
        "      full_till.append(customers.pop(i)) \n",
        "      customers.remove(customers[i])\n",
        "    leftovers = len(customers)-len(full_till) \n",
        "    for i in range(leftovers):\n",
        "      full_till[full_till.index(min(full_till))] = customers[i]\n",
        "      till_val = min(full_till) + customers[i]\n",
        "      final_till_time.append(till_val)\n",
        "      \n",
        "  return print(max(final_till_time))\n",
        "    \n",
        "    \n",
        "    \n",
        "      \n",
        "    \n",
        "    \n",
        " # this function below should return 9.  \n",
        "queue_time([2, 2, 3, 3, 4, 4], 2) "
      ]
    },
    {
      "cell_type": "code",
      "source": [
        "if __name__ == '__main__':\n",
        "    parent_list = []\n",
        "    score_list = []\n",
        "    second_lowest_names =[]\n",
        "    second_lowest_score = 0\n",
        "    for i in range(int(input())):\n",
        "        name = input()\n",
        "        score = float(input())\n",
        "        pair_list =[]\n",
        "        pair_list.append(name)\n",
        "        pair_list.append(score)\n",
        "        score_list.append(score)\n",
        "        #print(pair_list)\n",
        "        parent_list.append(pair_list)\n",
        "    #print(parent_list)\n",
        "    #print(score_list)\n",
        "    new_score_list = [*set(score_list)]\n",
        "    #print(new_score_list)\n",
        "    new_score_list.sort()\n",
        "    #print(new_score_list)\n",
        "\n",
        "    for score in new_score_list:\n",
        "        if score > min(new_score_list) and score == min(new_score_list[1], new_score_list[-1]):\n",
        "            second_lowest_score = score\n",
        "    \n",
        "    for pair in parent_list:\n",
        "        for element in pair:\n",
        "            if element == second_lowest_score:\n",
        "                second_lowest_names.append(pair[0])\n",
        "    second_lowest_names.sort()\n",
        "    #print(second_lowest_names)\n",
        "    for name in second_lowest_names:\n",
        "        print(name)\n",
        "            "
      ],
      "metadata": {
        "id": "u_UY9RoiBAfF"
      },
      "execution_count": null,
      "outputs": []
    }
  ]
}